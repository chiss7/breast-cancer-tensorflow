{
  "nbformat": 4,
  "nbformat_minor": 0,
  "metadata": {
    "colab": {
      "provenance": [],
      "authorship_tag": "ABX9TyOJtAH0rY6TjcCchrOFeVl6",
      "include_colab_link": true
    },
    "kernelspec": {
      "name": "python3",
      "display_name": "Python 3"
    },
    "language_info": {
      "name": "python"
    }
  },
  "cells": [
    {
      "cell_type": "markdown",
      "metadata": {
        "id": "view-in-github",
        "colab_type": "text"
      },
      "source": [
        "<a href=\"https://colab.research.google.com/github/chiss7/breast-cancer-tensorflow/blob/main/BC1/main.ipynb\" target=\"_parent\"><img src=\"https://colab.research.google.com/assets/colab-badge.svg\" alt=\"Open In Colab\"/></a>"
      ]
    },
    {
      "cell_type": "code",
      "execution_count": null,
      "metadata": {
        "colab": {
          "base_uri": "https://localhost:8080/"
        },
        "id": "tgQjeHun1qmp",
        "outputId": "a3897764-ab11-4192-f5a4-6b403026933e"
      },
      "outputs": [
        {
          "output_type": "stream",
          "name": "stdout",
          "text": [
            "Mounted at /content/drive\n"
          ]
        }
      ],
      "source": [
        "from google.colab import drive\n",
        "drive.mount('/content/drive')\n",
        "!cp '/content/drive/MyDrive/Colab Notebooks/Cancer de pecho - Tensorflow 2 (no keras)/utils.py' '/content'\n",
        "!cp '/content/drive/MyDrive/Colab Notebooks/Cancer de pecho - Tensorflow 2 (no keras)/optimizers.py' '/content'"
      ]
    },
    {
      "cell_type": "code",
      "source": [
        "import numpy as np\n",
        "import pandas as pd\n",
        "\n",
        "import tensorflow as tf\n",
        "\n",
        "import matplotlib.pyplot as plt\n",
        "import seaborn as sns\n",
        "\n",
        "from sklearn.datasets import load_breast_cancer\n",
        "from sklearn.model_selection import train_test_split\n",
        "from sklearn.preprocessing import MinMaxScaler\n",
        "\n",
        "from utils import Model\n",
        "from optimizers import GradientDescent, Momentum, Adam\n",
        "\n",
        "# Refreshing import to changes in utils.py\n",
        "%load_ext autoreload\n",
        "%autoreload 2"
      ],
      "metadata": {
        "id": "-6ptTa5t2EoQ",
        "colab": {
          "base_uri": "https://localhost:8080/"
        },
        "outputId": "bdd1e5b4-9d58-4cf9-c9ec-75f8bccc0f2a"
      },
      "execution_count": null,
      "outputs": [
        {
          "output_type": "stream",
          "name": "stdout",
          "text": [
            "The autoreload extension is already loaded. To reload it, use:\n",
            "  %reload_ext autoreload\n"
          ]
        }
      ]
    },
    {
      "cell_type": "code",
      "source": [
        "cancer_de_pecho = load_breast_cancer()\n",
        "X = cancer_de_pecho[\"data\"]\n",
        "y = cancer_de_pecho[\"target\"]\n",
        "\n",
        "X_train, X_test, y_train, y_test = train_test_split(X, y)\n",
        "\n",
        "df_train = pd.DataFrame(X_train, columns=cancer_de_pecho[\"feature_names\"])"
      ],
      "metadata": {
        "id": "allWsF5L2NIH"
      },
      "execution_count": null,
      "outputs": []
    },
    {
      "cell_type": "code",
      "source": [
        "X_train = np.transpose(np.array(X_train, dtype=np.float32))\n",
        "X_test = np.transpose(np.array(X_test, dtype=np.float32))\n",
        "y_train = np.array(y_train, dtype=np.float32)\n",
        "y_test = np.array(y_test, dtype=np.float32)"
      ],
      "metadata": {
        "id": "-uE0Ebll_PZk"
      },
      "execution_count": null,
      "outputs": []
    },
    {
      "cell_type": "code",
      "source": [
        "df_train"
      ],
      "metadata": {
        "colab": {
          "base_uri": "https://localhost:8080/",
          "height": 478
        },
        "id": "8gGUOaRKDaSb",
        "outputId": "2c0c8b1e-f585-420c-ce4b-1f37c55dc5b6"
      },
      "execution_count": null,
      "outputs": [
        {
          "output_type": "execute_result",
          "data": {
            "text/plain": [
              "     mean radius  mean texture  mean perimeter  mean area  mean smoothness  \\\n",
              "0         12.540         16.32           81.25      476.3          0.11580   \n",
              "1         13.610         24.98           88.05      582.7          0.09488   \n",
              "2         27.220         21.87          182.10     2250.0          0.10940   \n",
              "3         11.410         14.92           73.53      402.0          0.09059   \n",
              "4         15.100         16.39           99.58      674.5          0.11500   \n",
              "..           ...           ...             ...        ...              ...   \n",
              "421        9.465         21.01           60.11      269.4          0.10440   \n",
              "422       13.490         22.30           86.91      561.0          0.08752   \n",
              "423       12.270         17.92           78.41      466.1          0.08685   \n",
              "424        7.691         25.44           48.34      170.4          0.08668   \n",
              "425       10.480         19.86           66.72      337.7          0.10700   \n",
              "\n",
              "     mean compactness  mean concavity  mean concave points  mean symmetry  \\\n",
              "0             0.10850         0.05928              0.03279         0.1943   \n",
              "1             0.08511         0.08625              0.04489         0.1609   \n",
              "2             0.19140         0.28710              0.18780         0.1800   \n",
              "3             0.08155         0.06181              0.02361         0.1167   \n",
              "4             0.18070         0.11380              0.08534         0.2001   \n",
              "..                ...             ...                  ...            ...   \n",
              "421           0.07773         0.02172              0.01504         0.1717   \n",
              "422           0.07698         0.04751              0.03384         0.1809   \n",
              "423           0.06526         0.03211              0.02653         0.1966   \n",
              "424           0.11990         0.09252              0.01364         0.2037   \n",
              "425           0.05971         0.04831              0.03070         0.1737   \n",
              "\n",
              "     mean fractal dimension  ...  worst radius  worst texture  \\\n",
              "0                   0.06612  ...        13.570          21.40   \n",
              "1                   0.05871  ...        16.990          35.27   \n",
              "2                   0.05770  ...        33.120          32.85   \n",
              "3                   0.06217  ...        12.370          17.70   \n",
              "4                   0.06467  ...        16.110          18.33   \n",
              "..                      ...  ...           ...            ...   \n",
              "421                 0.06899  ...        10.410          31.56   \n",
              "422                 0.05718  ...        15.150          31.82   \n",
              "423                 0.05597  ...        14.100          28.88   \n",
              "424                 0.07751  ...         8.678          31.89   \n",
              "425                 0.06440  ...        11.480          29.46   \n",
              "\n",
              "     worst perimeter  worst area  worst smoothness  worst compactness  \\\n",
              "0              86.67       552.0            0.1580             0.1751   \n",
              "1             108.60       906.5            0.1265             0.1943   \n",
              "2             220.80      3216.0            0.1472             0.4034   \n",
              "3              79.12       467.2            0.1121             0.1610   \n",
              "4             105.90       762.6            0.1386             0.2883   \n",
              "..               ...         ...               ...                ...   \n",
              "421            67.03       330.7            0.1548             0.1664   \n",
              "422            99.00       698.8            0.1162             0.1711   \n",
              "423            89.00       610.2            0.1240             0.1795   \n",
              "424            54.49       223.6            0.1596             0.3064   \n",
              "425            73.68       402.8            0.1515             0.1026   \n",
              "\n",
              "     worst concavity  worst concave points  worst symmetry  \\\n",
              "0            0.18890               0.08411          0.3155   \n",
              "1            0.31690               0.11840          0.2651   \n",
              "2            0.53400               0.26880          0.2856   \n",
              "3            0.16480               0.06296          0.1811   \n",
              "4            0.19600               0.14230          0.2590   \n",
              "..               ...                   ...             ...   \n",
              "421          0.09412               0.06517          0.2878   \n",
              "422          0.22820               0.12820          0.2871   \n",
              "423          0.13770               0.09532          0.3455   \n",
              "424          0.33930               0.05000          0.2790   \n",
              "425          0.11810               0.06736          0.2883   \n",
              "\n",
              "     worst fractal dimension  \n",
              "0                    0.07538  \n",
              "1                    0.07397  \n",
              "2                    0.08082  \n",
              "3                    0.07427  \n",
              "4                    0.07779  \n",
              "..                       ...  \n",
              "421                  0.09211  \n",
              "422                  0.06917  \n",
              "423                  0.06896  \n",
              "424                  0.10660  \n",
              "425                  0.07748  \n",
              "\n",
              "[426 rows x 30 columns]"
            ],
            "text/html": [
              "\n",
              "  <div id=\"df-f4b7da54-bebd-4dfd-bfbf-c222f19b663c\" class=\"colab-df-container\">\n",
              "    <div>\n",
              "<style scoped>\n",
              "    .dataframe tbody tr th:only-of-type {\n",
              "        vertical-align: middle;\n",
              "    }\n",
              "\n",
              "    .dataframe tbody tr th {\n",
              "        vertical-align: top;\n",
              "    }\n",
              "\n",
              "    .dataframe thead th {\n",
              "        text-align: right;\n",
              "    }\n",
              "</style>\n",
              "<table border=\"1\" class=\"dataframe\">\n",
              "  <thead>\n",
              "    <tr style=\"text-align: right;\">\n",
              "      <th></th>\n",
              "      <th>mean radius</th>\n",
              "      <th>mean texture</th>\n",
              "      <th>mean perimeter</th>\n",
              "      <th>mean area</th>\n",
              "      <th>mean smoothness</th>\n",
              "      <th>mean compactness</th>\n",
              "      <th>mean concavity</th>\n",
              "      <th>mean concave points</th>\n",
              "      <th>mean symmetry</th>\n",
              "      <th>mean fractal dimension</th>\n",
              "      <th>...</th>\n",
              "      <th>worst radius</th>\n",
              "      <th>worst texture</th>\n",
              "      <th>worst perimeter</th>\n",
              "      <th>worst area</th>\n",
              "      <th>worst smoothness</th>\n",
              "      <th>worst compactness</th>\n",
              "      <th>worst concavity</th>\n",
              "      <th>worst concave points</th>\n",
              "      <th>worst symmetry</th>\n",
              "      <th>worst fractal dimension</th>\n",
              "    </tr>\n",
              "  </thead>\n",
              "  <tbody>\n",
              "    <tr>\n",
              "      <th>0</th>\n",
              "      <td>12.540</td>\n",
              "      <td>16.32</td>\n",
              "      <td>81.25</td>\n",
              "      <td>476.3</td>\n",
              "      <td>0.11580</td>\n",
              "      <td>0.10850</td>\n",
              "      <td>0.05928</td>\n",
              "      <td>0.03279</td>\n",
              "      <td>0.1943</td>\n",
              "      <td>0.06612</td>\n",
              "      <td>...</td>\n",
              "      <td>13.570</td>\n",
              "      <td>21.40</td>\n",
              "      <td>86.67</td>\n",
              "      <td>552.0</td>\n",
              "      <td>0.1580</td>\n",
              "      <td>0.1751</td>\n",
              "      <td>0.18890</td>\n",
              "      <td>0.08411</td>\n",
              "      <td>0.3155</td>\n",
              "      <td>0.07538</td>\n",
              "    </tr>\n",
              "    <tr>\n",
              "      <th>1</th>\n",
              "      <td>13.610</td>\n",
              "      <td>24.98</td>\n",
              "      <td>88.05</td>\n",
              "      <td>582.7</td>\n",
              "      <td>0.09488</td>\n",
              "      <td>0.08511</td>\n",
              "      <td>0.08625</td>\n",
              "      <td>0.04489</td>\n",
              "      <td>0.1609</td>\n",
              "      <td>0.05871</td>\n",
              "      <td>...</td>\n",
              "      <td>16.990</td>\n",
              "      <td>35.27</td>\n",
              "      <td>108.60</td>\n",
              "      <td>906.5</td>\n",
              "      <td>0.1265</td>\n",
              "      <td>0.1943</td>\n",
              "      <td>0.31690</td>\n",
              "      <td>0.11840</td>\n",
              "      <td>0.2651</td>\n",
              "      <td>0.07397</td>\n",
              "    </tr>\n",
              "    <tr>\n",
              "      <th>2</th>\n",
              "      <td>27.220</td>\n",
              "      <td>21.87</td>\n",
              "      <td>182.10</td>\n",
              "      <td>2250.0</td>\n",
              "      <td>0.10940</td>\n",
              "      <td>0.19140</td>\n",
              "      <td>0.28710</td>\n",
              "      <td>0.18780</td>\n",
              "      <td>0.1800</td>\n",
              "      <td>0.05770</td>\n",
              "      <td>...</td>\n",
              "      <td>33.120</td>\n",
              "      <td>32.85</td>\n",
              "      <td>220.80</td>\n",
              "      <td>3216.0</td>\n",
              "      <td>0.1472</td>\n",
              "      <td>0.4034</td>\n",
              "      <td>0.53400</td>\n",
              "      <td>0.26880</td>\n",
              "      <td>0.2856</td>\n",
              "      <td>0.08082</td>\n",
              "    </tr>\n",
              "    <tr>\n",
              "      <th>3</th>\n",
              "      <td>11.410</td>\n",
              "      <td>14.92</td>\n",
              "      <td>73.53</td>\n",
              "      <td>402.0</td>\n",
              "      <td>0.09059</td>\n",
              "      <td>0.08155</td>\n",
              "      <td>0.06181</td>\n",
              "      <td>0.02361</td>\n",
              "      <td>0.1167</td>\n",
              "      <td>0.06217</td>\n",
              "      <td>...</td>\n",
              "      <td>12.370</td>\n",
              "      <td>17.70</td>\n",
              "      <td>79.12</td>\n",
              "      <td>467.2</td>\n",
              "      <td>0.1121</td>\n",
              "      <td>0.1610</td>\n",
              "      <td>0.16480</td>\n",
              "      <td>0.06296</td>\n",
              "      <td>0.1811</td>\n",
              "      <td>0.07427</td>\n",
              "    </tr>\n",
              "    <tr>\n",
              "      <th>4</th>\n",
              "      <td>15.100</td>\n",
              "      <td>16.39</td>\n",
              "      <td>99.58</td>\n",
              "      <td>674.5</td>\n",
              "      <td>0.11500</td>\n",
              "      <td>0.18070</td>\n",
              "      <td>0.11380</td>\n",
              "      <td>0.08534</td>\n",
              "      <td>0.2001</td>\n",
              "      <td>0.06467</td>\n",
              "      <td>...</td>\n",
              "      <td>16.110</td>\n",
              "      <td>18.33</td>\n",
              "      <td>105.90</td>\n",
              "      <td>762.6</td>\n",
              "      <td>0.1386</td>\n",
              "      <td>0.2883</td>\n",
              "      <td>0.19600</td>\n",
              "      <td>0.14230</td>\n",
              "      <td>0.2590</td>\n",
              "      <td>0.07779</td>\n",
              "    </tr>\n",
              "    <tr>\n",
              "      <th>...</th>\n",
              "      <td>...</td>\n",
              "      <td>...</td>\n",
              "      <td>...</td>\n",
              "      <td>...</td>\n",
              "      <td>...</td>\n",
              "      <td>...</td>\n",
              "      <td>...</td>\n",
              "      <td>...</td>\n",
              "      <td>...</td>\n",
              "      <td>...</td>\n",
              "      <td>...</td>\n",
              "      <td>...</td>\n",
              "      <td>...</td>\n",
              "      <td>...</td>\n",
              "      <td>...</td>\n",
              "      <td>...</td>\n",
              "      <td>...</td>\n",
              "      <td>...</td>\n",
              "      <td>...</td>\n",
              "      <td>...</td>\n",
              "      <td>...</td>\n",
              "    </tr>\n",
              "    <tr>\n",
              "      <th>421</th>\n",
              "      <td>9.465</td>\n",
              "      <td>21.01</td>\n",
              "      <td>60.11</td>\n",
              "      <td>269.4</td>\n",
              "      <td>0.10440</td>\n",
              "      <td>0.07773</td>\n",
              "      <td>0.02172</td>\n",
              "      <td>0.01504</td>\n",
              "      <td>0.1717</td>\n",
              "      <td>0.06899</td>\n",
              "      <td>...</td>\n",
              "      <td>10.410</td>\n",
              "      <td>31.56</td>\n",
              "      <td>67.03</td>\n",
              "      <td>330.7</td>\n",
              "      <td>0.1548</td>\n",
              "      <td>0.1664</td>\n",
              "      <td>0.09412</td>\n",
              "      <td>0.06517</td>\n",
              "      <td>0.2878</td>\n",
              "      <td>0.09211</td>\n",
              "    </tr>\n",
              "    <tr>\n",
              "      <th>422</th>\n",
              "      <td>13.490</td>\n",
              "      <td>22.30</td>\n",
              "      <td>86.91</td>\n",
              "      <td>561.0</td>\n",
              "      <td>0.08752</td>\n",
              "      <td>0.07698</td>\n",
              "      <td>0.04751</td>\n",
              "      <td>0.03384</td>\n",
              "      <td>0.1809</td>\n",
              "      <td>0.05718</td>\n",
              "      <td>...</td>\n",
              "      <td>15.150</td>\n",
              "      <td>31.82</td>\n",
              "      <td>99.00</td>\n",
              "      <td>698.8</td>\n",
              "      <td>0.1162</td>\n",
              "      <td>0.1711</td>\n",
              "      <td>0.22820</td>\n",
              "      <td>0.12820</td>\n",
              "      <td>0.2871</td>\n",
              "      <td>0.06917</td>\n",
              "    </tr>\n",
              "    <tr>\n",
              "      <th>423</th>\n",
              "      <td>12.270</td>\n",
              "      <td>17.92</td>\n",
              "      <td>78.41</td>\n",
              "      <td>466.1</td>\n",
              "      <td>0.08685</td>\n",
              "      <td>0.06526</td>\n",
              "      <td>0.03211</td>\n",
              "      <td>0.02653</td>\n",
              "      <td>0.1966</td>\n",
              "      <td>0.05597</td>\n",
              "      <td>...</td>\n",
              "      <td>14.100</td>\n",
              "      <td>28.88</td>\n",
              "      <td>89.00</td>\n",
              "      <td>610.2</td>\n",
              "      <td>0.1240</td>\n",
              "      <td>0.1795</td>\n",
              "      <td>0.13770</td>\n",
              "      <td>0.09532</td>\n",
              "      <td>0.3455</td>\n",
              "      <td>0.06896</td>\n",
              "    </tr>\n",
              "    <tr>\n",
              "      <th>424</th>\n",
              "      <td>7.691</td>\n",
              "      <td>25.44</td>\n",
              "      <td>48.34</td>\n",
              "      <td>170.4</td>\n",
              "      <td>0.08668</td>\n",
              "      <td>0.11990</td>\n",
              "      <td>0.09252</td>\n",
              "      <td>0.01364</td>\n",
              "      <td>0.2037</td>\n",
              "      <td>0.07751</td>\n",
              "      <td>...</td>\n",
              "      <td>8.678</td>\n",
              "      <td>31.89</td>\n",
              "      <td>54.49</td>\n",
              "      <td>223.6</td>\n",
              "      <td>0.1596</td>\n",
              "      <td>0.3064</td>\n",
              "      <td>0.33930</td>\n",
              "      <td>0.05000</td>\n",
              "      <td>0.2790</td>\n",
              "      <td>0.10660</td>\n",
              "    </tr>\n",
              "    <tr>\n",
              "      <th>425</th>\n",
              "      <td>10.480</td>\n",
              "      <td>19.86</td>\n",
              "      <td>66.72</td>\n",
              "      <td>337.7</td>\n",
              "      <td>0.10700</td>\n",
              "      <td>0.05971</td>\n",
              "      <td>0.04831</td>\n",
              "      <td>0.03070</td>\n",
              "      <td>0.1737</td>\n",
              "      <td>0.06440</td>\n",
              "      <td>...</td>\n",
              "      <td>11.480</td>\n",
              "      <td>29.46</td>\n",
              "      <td>73.68</td>\n",
              "      <td>402.8</td>\n",
              "      <td>0.1515</td>\n",
              "      <td>0.1026</td>\n",
              "      <td>0.11810</td>\n",
              "      <td>0.06736</td>\n",
              "      <td>0.2883</td>\n",
              "      <td>0.07748</td>\n",
              "    </tr>\n",
              "  </tbody>\n",
              "</table>\n",
              "<p>426 rows × 30 columns</p>\n",
              "</div>\n",
              "    <div class=\"colab-df-buttons\">\n",
              "\n",
              "  <div class=\"colab-df-container\">\n",
              "    <button class=\"colab-df-convert\" onclick=\"convertToInteractive('df-f4b7da54-bebd-4dfd-bfbf-c222f19b663c')\"\n",
              "            title=\"Convert this dataframe to an interactive table.\"\n",
              "            style=\"display:none;\">\n",
              "\n",
              "  <svg xmlns=\"http://www.w3.org/2000/svg\" height=\"24px\" viewBox=\"0 -960 960 960\">\n",
              "    <path d=\"M120-120v-720h720v720H120Zm60-500h600v-160H180v160Zm220 220h160v-160H400v160Zm0 220h160v-160H400v160ZM180-400h160v-160H180v160Zm440 0h160v-160H620v160ZM180-180h160v-160H180v160Zm440 0h160v-160H620v160Z\"/>\n",
              "  </svg>\n",
              "    </button>\n",
              "\n",
              "  <style>\n",
              "    .colab-df-container {\n",
              "      display:flex;\n",
              "      gap: 12px;\n",
              "    }\n",
              "\n",
              "    .colab-df-convert {\n",
              "      background-color: #E8F0FE;\n",
              "      border: none;\n",
              "      border-radius: 50%;\n",
              "      cursor: pointer;\n",
              "      display: none;\n",
              "      fill: #1967D2;\n",
              "      height: 32px;\n",
              "      padding: 0 0 0 0;\n",
              "      width: 32px;\n",
              "    }\n",
              "\n",
              "    .colab-df-convert:hover {\n",
              "      background-color: #E2EBFA;\n",
              "      box-shadow: 0px 1px 2px rgba(60, 64, 67, 0.3), 0px 1px 3px 1px rgba(60, 64, 67, 0.15);\n",
              "      fill: #174EA6;\n",
              "    }\n",
              "\n",
              "    .colab-df-buttons div {\n",
              "      margin-bottom: 4px;\n",
              "    }\n",
              "\n",
              "    [theme=dark] .colab-df-convert {\n",
              "      background-color: #3B4455;\n",
              "      fill: #D2E3FC;\n",
              "    }\n",
              "\n",
              "    [theme=dark] .colab-df-convert:hover {\n",
              "      background-color: #434B5C;\n",
              "      box-shadow: 0px 1px 3px 1px rgba(0, 0, 0, 0.15);\n",
              "      filter: drop-shadow(0px 1px 2px rgba(0, 0, 0, 0.3));\n",
              "      fill: #FFFFFF;\n",
              "    }\n",
              "  </style>\n",
              "\n",
              "    <script>\n",
              "      const buttonEl =\n",
              "        document.querySelector('#df-f4b7da54-bebd-4dfd-bfbf-c222f19b663c button.colab-df-convert');\n",
              "      buttonEl.style.display =\n",
              "        google.colab.kernel.accessAllowed ? 'block' : 'none';\n",
              "\n",
              "      async function convertToInteractive(key) {\n",
              "        const element = document.querySelector('#df-f4b7da54-bebd-4dfd-bfbf-c222f19b663c');\n",
              "        const dataTable =\n",
              "          await google.colab.kernel.invokeFunction('convertToInteractive',\n",
              "                                                    [key], {});\n",
              "        if (!dataTable) return;\n",
              "\n",
              "        const docLinkHtml = 'Like what you see? Visit the ' +\n",
              "          '<a target=\"_blank\" href=https://colab.research.google.com/notebooks/data_table.ipynb>data table notebook</a>'\n",
              "          + ' to learn more about interactive tables.';\n",
              "        element.innerHTML = '';\n",
              "        dataTable['output_type'] = 'display_data';\n",
              "        await google.colab.output.renderOutput(dataTable, element);\n",
              "        const docLink = document.createElement('div');\n",
              "        docLink.innerHTML = docLinkHtml;\n",
              "        element.appendChild(docLink);\n",
              "      }\n",
              "    </script>\n",
              "  </div>\n",
              "\n",
              "\n",
              "<div id=\"df-71fd6922-a533-4b6c-9961-74123a1ff046\">\n",
              "  <button class=\"colab-df-quickchart\" onclick=\"quickchart('df-71fd6922-a533-4b6c-9961-74123a1ff046')\"\n",
              "            title=\"Suggest charts.\"\n",
              "            style=\"display:none;\">\n",
              "\n",
              "<svg xmlns=\"http://www.w3.org/2000/svg\" height=\"24px\"viewBox=\"0 0 24 24\"\n",
              "     width=\"24px\">\n",
              "    <g>\n",
              "        <path d=\"M19 3H5c-1.1 0-2 .9-2 2v14c0 1.1.9 2 2 2h14c1.1 0 2-.9 2-2V5c0-1.1-.9-2-2-2zM9 17H7v-7h2v7zm4 0h-2V7h2v10zm4 0h-2v-4h2v4z\"/>\n",
              "    </g>\n",
              "</svg>\n",
              "  </button>\n",
              "\n",
              "<style>\n",
              "  .colab-df-quickchart {\n",
              "      --bg-color: #E8F0FE;\n",
              "      --fill-color: #1967D2;\n",
              "      --hover-bg-color: #E2EBFA;\n",
              "      --hover-fill-color: #174EA6;\n",
              "      --disabled-fill-color: #AAA;\n",
              "      --disabled-bg-color: #DDD;\n",
              "  }\n",
              "\n",
              "  [theme=dark] .colab-df-quickchart {\n",
              "      --bg-color: #3B4455;\n",
              "      --fill-color: #D2E3FC;\n",
              "      --hover-bg-color: #434B5C;\n",
              "      --hover-fill-color: #FFFFFF;\n",
              "      --disabled-bg-color: #3B4455;\n",
              "      --disabled-fill-color: #666;\n",
              "  }\n",
              "\n",
              "  .colab-df-quickchart {\n",
              "    background-color: var(--bg-color);\n",
              "    border: none;\n",
              "    border-radius: 50%;\n",
              "    cursor: pointer;\n",
              "    display: none;\n",
              "    fill: var(--fill-color);\n",
              "    height: 32px;\n",
              "    padding: 0;\n",
              "    width: 32px;\n",
              "  }\n",
              "\n",
              "  .colab-df-quickchart:hover {\n",
              "    background-color: var(--hover-bg-color);\n",
              "    box-shadow: 0 1px 2px rgba(60, 64, 67, 0.3), 0 1px 3px 1px rgba(60, 64, 67, 0.15);\n",
              "    fill: var(--button-hover-fill-color);\n",
              "  }\n",
              "\n",
              "  .colab-df-quickchart-complete:disabled,\n",
              "  .colab-df-quickchart-complete:disabled:hover {\n",
              "    background-color: var(--disabled-bg-color);\n",
              "    fill: var(--disabled-fill-color);\n",
              "    box-shadow: none;\n",
              "  }\n",
              "\n",
              "  .colab-df-spinner {\n",
              "    border: 2px solid var(--fill-color);\n",
              "    border-color: transparent;\n",
              "    border-bottom-color: var(--fill-color);\n",
              "    animation:\n",
              "      spin 1s steps(1) infinite;\n",
              "  }\n",
              "\n",
              "  @keyframes spin {\n",
              "    0% {\n",
              "      border-color: transparent;\n",
              "      border-bottom-color: var(--fill-color);\n",
              "      border-left-color: var(--fill-color);\n",
              "    }\n",
              "    20% {\n",
              "      border-color: transparent;\n",
              "      border-left-color: var(--fill-color);\n",
              "      border-top-color: var(--fill-color);\n",
              "    }\n",
              "    30% {\n",
              "      border-color: transparent;\n",
              "      border-left-color: var(--fill-color);\n",
              "      border-top-color: var(--fill-color);\n",
              "      border-right-color: var(--fill-color);\n",
              "    }\n",
              "    40% {\n",
              "      border-color: transparent;\n",
              "      border-right-color: var(--fill-color);\n",
              "      border-top-color: var(--fill-color);\n",
              "    }\n",
              "    60% {\n",
              "      border-color: transparent;\n",
              "      border-right-color: var(--fill-color);\n",
              "    }\n",
              "    80% {\n",
              "      border-color: transparent;\n",
              "      border-right-color: var(--fill-color);\n",
              "      border-bottom-color: var(--fill-color);\n",
              "    }\n",
              "    90% {\n",
              "      border-color: transparent;\n",
              "      border-bottom-color: var(--fill-color);\n",
              "    }\n",
              "  }\n",
              "</style>\n",
              "\n",
              "  <script>\n",
              "    async function quickchart(key) {\n",
              "      const quickchartButtonEl =\n",
              "        document.querySelector('#' + key + ' button');\n",
              "      quickchartButtonEl.disabled = true;  // To prevent multiple clicks.\n",
              "      quickchartButtonEl.classList.add('colab-df-spinner');\n",
              "      try {\n",
              "        const charts = await google.colab.kernel.invokeFunction(\n",
              "            'suggestCharts', [key], {});\n",
              "      } catch (error) {\n",
              "        console.error('Error during call to suggestCharts:', error);\n",
              "      }\n",
              "      quickchartButtonEl.classList.remove('colab-df-spinner');\n",
              "      quickchartButtonEl.classList.add('colab-df-quickchart-complete');\n",
              "    }\n",
              "    (() => {\n",
              "      let quickchartButtonEl =\n",
              "        document.querySelector('#df-71fd6922-a533-4b6c-9961-74123a1ff046 button');\n",
              "      quickchartButtonEl.style.display =\n",
              "        google.colab.kernel.accessAllowed ? 'block' : 'none';\n",
              "    })();\n",
              "  </script>\n",
              "</div>\n",
              "    </div>\n",
              "  </div>\n"
            ]
          },
          "metadata": {},
          "execution_count": 134
        }
      ]
    },
    {
      "cell_type": "code",
      "source": [
        "# Data Normalization\n",
        "# used in machine learning to scale the features of a dataset to a specified range. (0 - 1)\n",
        "# It is particularly useful for binary classification problems.\n",
        "scaler = MinMaxScaler()\n",
        "scaler.fit(X_train)\n",
        "X_train = scaler.transform(X_train)\n",
        "\n",
        "scaler.fit(X_test)\n",
        "X_test = scaler.transform(X_test)"
      ],
      "metadata": {
        "id": "zkaXlVlWDjwT"
      },
      "execution_count": null,
      "outputs": []
    },
    {
      "cell_type": "code",
      "source": [
        "# HYPER PARAMETERS\n",
        "lr = 1e-3\n",
        "arch = [30, 15]\n",
        "num_epochs = 1000\n",
        "\n",
        "model = Model(arch)\n",
        "optimizer = Adam(learning_rate=lr)\n",
        "bin_cross_entropy = tf.keras.losses.BinaryCrossentropy()\n",
        "\n",
        "loss_list = []\n",
        "accuracy_list = []\n",
        "val_loss_list = []\n",
        "val_accuracy_list = []\n",
        "\n",
        "print(\"----------------------------------------\")\n",
        "print(model.title)\n",
        "print(optimizer.title)\n",
        "print(\"----------------------------------------\")\n",
        "\n",
        "# TRAIN MODEL\n",
        "for epoch in range(num_epochs):\n",
        "  # Gradients\n",
        "  with tf.GradientTape() as t:\n",
        "    # Loss\n",
        "    #loss = model.compute_loss(model(X_train), y_train)\n",
        "    loss = bin_cross_entropy(y_train, model(X_train))\n",
        "    val_loss = bin_cross_entropy(y_test, model(X_test))\n",
        "\n",
        "  grads = t.gradient(loss, model.Variables)\n",
        "\n",
        "  loss_list.append(loss)\n",
        "  val_loss_list.append(val_loss)\n",
        "\n",
        "  # Apply Gradients (optimizer)\n",
        "  model.Variables = optimizer.apply_gradients(model.Variables, grads)\n",
        "\n",
        "  # Accuracy\n",
        "  accuracy = model.compute_accuracy(model(X_train), y_train)\n",
        "  accuracy_list.append(accuracy)\n",
        "\n",
        "  val_accuracy = model.compute_accuracy(model(X_test), y_test)\n",
        "  val_accuracy_list.append(val_accuracy)\n",
        "\n",
        "  if (epoch % (num_epochs // 10) == 0):\n",
        "    # Show Accuracy and Loss\n",
        "    print(f\"Epoch: {epoch}, Loss: {loss:.4f}, Val Loss: {val_loss:.4f}, Accuracy: {accuracy:.2f}, Val Accuracy: {val_accuracy:.2f}\")\n",
        "\n",
        "#print(model(X_train))"
      ],
      "metadata": {
        "colab": {
          "base_uri": "https://localhost:8080/"
        },
        "id": "FnuEaSVi6Z-4",
        "outputId": "29009aaf-74b9-43c0-8736-67026829fe1f"
      },
      "execution_count": null,
      "outputs": [
        {
          "output_type": "stream",
          "name": "stdout",
          "text": [
            "----------------------------------------\n",
            "Model architecture -> input[30], hidden[30, 15], output[1]\n",
            "Adam: learning rate = 0.001\n",
            "----------------------------------------\n",
            "Epoch: 0, Loss: 1.6217, Val Loss: 1.5582, Accuracy: 0.63, Val Accuracy: 0.62\n",
            "Epoch: 100, Loss: 0.3850, Val Loss: 0.3896, Accuracy: 0.90, Val Accuracy: 0.90\n",
            "Epoch: 200, Loss: 0.2764, Val Loss: 0.2887, Accuracy: 0.92, Val Accuracy: 0.94\n",
            "Epoch: 300, Loss: 0.2376, Val Loss: 0.2462, Accuracy: 0.92, Val Accuracy: 0.94\n",
            "Epoch: 400, Loss: 0.2194, Val Loss: 0.2224, Accuracy: 0.92, Val Accuracy: 0.94\n",
            "Epoch: 500, Loss: 0.2096, Val Loss: 0.2077, Accuracy: 0.92, Val Accuracy: 0.94\n",
            "Epoch: 600, Loss: 0.2036, Val Loss: 0.1979, Accuracy: 0.91, Val Accuracy: 0.94\n",
            "Epoch: 700, Loss: 0.1996, Val Loss: 0.1910, Accuracy: 0.92, Val Accuracy: 0.94\n",
            "Epoch: 800, Loss: 0.1965, Val Loss: 0.1861, Accuracy: 0.92, Val Accuracy: 0.94\n",
            "Epoch: 900, Loss: 0.1940, Val Loss: 0.1823, Accuracy: 0.92, Val Accuracy: 0.94\n"
          ]
        }
      ]
    },
    {
      "cell_type": "markdown",
      "source": [
        "**Show Loss and Accuracy**\n"
      ],
      "metadata": {
        "id": "UKXxbfijnmKt"
      }
    },
    {
      "cell_type": "code",
      "source": [
        "fig, ax1 = plt.subplots()\n",
        "ax1.plot(loss_list, \"tab:red\")\n",
        "ax2 = ax1.twinx()\n",
        "ax2.plot(accuracy_list, \"tab:blue\")"
      ],
      "metadata": {
        "colab": {
          "base_uri": "https://localhost:8080/",
          "height": 447
        },
        "id": "PSvwyerlnmX-",
        "outputId": "ce65c97a-229e-4655-e44d-d197c611d638"
      },
      "execution_count": null,
      "outputs": [
        {
          "output_type": "execute_result",
          "data": {
            "text/plain": [
              "[<matplotlib.lines.Line2D at 0x7a418ea3f070>]"
            ]
          },
          "metadata": {},
          "execution_count": 138
        },
        {
          "output_type": "display_data",
          "data": {
            "text/plain": [
              "<Figure size 640x480 with 2 Axes>"
            ],
            "image/png": "[encoded data removed]"
          },
          "metadata": {}
        }
      ]
    },
    {
      "cell_type": "code",
      "source": [
        "fig, ax1 = plt.subplots()\n",
        "ax1.plot(val_loss_list, \"tab:pink\")\n",
        "ax2 = ax1.twinx()\n",
        "ax2.plot(val_accuracy_list, \"tab:cyan\")"
      ],
      "metadata": {
        "colab": {
          "base_uri": "https://localhost:8080/",
          "height": 447
        },
        "id": "7F49MfgQMn03",
        "outputId": "53831bad-425b-4384-a51f-6c6becea0c8a"
      },
      "execution_count": null,
      "outputs": [
        {
          "output_type": "execute_result",
          "data": {
            "text/plain": [
              "[<matplotlib.lines.Line2D at 0x7a418e668970>]"
            ]
          },
          "metadata": {},
          "execution_count": 139
        },
        {
          "output_type": "display_data",
          "data": {
            "text/plain": [
              "<Figure size 640x480 with 2 Axes>"
            ],
            "image/png": "[encoded data removed]"
          },
          "metadata": {}
        }
      ]
    },
    {
      "cell_type": "code",
      "source": [
        "fig, ax1 = plt.subplots()\n",
        "ax1.plot(loss_list, \"tab:red\")\n",
        "ax2 = ax1.twinx()\n",
        "ax2.plot(val_loss_list, \"tab:pink\")"
      ],
      "metadata": {
        "colab": {
          "base_uri": "https://localhost:8080/",
          "height": 447
        },
        "id": "0b4bX9Z3OUsZ",
        "outputId": "0fbf83da-60d1-4785-9cb1-7b0df0a0397f"
      },
      "execution_count": null,
      "outputs": [
        {
          "output_type": "execute_result",
          "data": {
            "text/plain": [
              "[<matplotlib.lines.Line2D at 0x7a418e71a800>]"
            ]
          },
          "metadata": {},
          "execution_count": 140
        },
        {
          "output_type": "display_data",
          "data": {
            "text/plain": [
              "<Figure size 640x480 with 2 Axes>"
            ],
            "image/png": "[encoded data removed]"
          },
          "metadata": {}
        }
      ]
    },
    {
      "cell_type": "code",
      "source": [
        "fig, ax1 = plt.subplots()\n",
        "ax1.plot(accuracy_list, \"tab:blue\")\n",
        "ax2 = ax1.twinx()\n",
        "ax2.plot(val_accuracy_list, \"tab:cyan\")"
      ],
      "metadata": {
        "colab": {
          "base_uri": "https://localhost:8080/",
          "height": 447
        },
        "id": "Uovl38d1OdhN",
        "outputId": "f80213c3-14ae-4e9b-9307-4fe0137bda4b"
      },
      "execution_count": null,
      "outputs": [
        {
          "output_type": "execute_result",
          "data": {
            "text/plain": [
              "[<matplotlib.lines.Line2D at 0x7a418bf7e800>]"
            ]
          },
          "metadata": {},
          "execution_count": 141
        },
        {
          "output_type": "display_data",
          "data": {
            "text/plain": [
              "<Figure size 640x480 with 2 Axes>"
            ],
            "image/png": "[encoded data removed]"
          },
          "metadata": {}
        }
      ]
    },
    {
      "cell_type": "markdown",
      "source": [
        "**Confusion Matrix**"
      ],
      "metadata": {
        "id": "EK5lTjKLnWgM"
      }
    },
    {
      "cell_type": "code",
      "source": [
        "VP = 0\n",
        "VN = 0\n",
        "FP = 0\n",
        "FN = 0\n",
        "y_pred = model(X_test)\n",
        "\n",
        "for X, y in zip(y_pred[0], y_test):\n",
        "  if y == 1:\n",
        "    if tf.equal(tf.round(X).numpy(), y):\n",
        "      VP += 1\n",
        "    else:\n",
        "      FN += 1\n",
        "  else:\n",
        "    if tf.equal(tf.round(X).numpy(), y):\n",
        "      VN += 1\n",
        "    else:\n",
        "      FP += 1\n",
        "\n",
        "T_VP = VP/(VP + FN) * 100\n",
        "T_VN = VN/(VN + FP) * 100\n",
        "T_FN = FN/(FN + VP) * 100\n",
        "T_FP = FP/(FP + VN) * 100\n",
        "\n",
        "class_names = ['Positive', 'Negative']"
      ],
      "metadata": {
        "id": "CVSrnczTT95Q"
      },
      "execution_count": null,
      "outputs": []
    },
    {
      "cell_type": "code",
      "source": [
        "confusion_matrix = np.array([[VP, FN], [FP, VN]])\n",
        "\n",
        "plt.figure(figsize=(8, 6))\n",
        "sns.heatmap(confusion_matrix, annot=True, fmt=\"d\", cmap=\"Blues\",\n",
        "            xticklabels=class_names, yticklabels=class_names)\n",
        "plt.xlabel('Predicted Values')\n",
        "plt.ylabel('Actual Values')\n",
        "plt.title('Confusion Matrix')\n",
        "\n",
        "plt.show()"
      ],
      "metadata": {
        "colab": {
          "base_uri": "https://localhost:8080/",
          "height": 564
        },
        "id": "ko7evMPri3rI",
        "outputId": "a82a3717-1e3a-471a-b072-7e3275a1474b"
      },
      "execution_count": null,
      "outputs": [
        {
          "output_type": "display_data",
          "data": {
            "text/plain": [
              "<Figure size 800x600 with 2 Axes>"
            ],
            "image/png": "[encoded data removed]"
          },
          "metadata": {}
        }
      ]
    },
    {
      "cell_type": "code",
      "source": [
        "confusion_matrix = np.array([[T_VP, T_FN], [T_FP, T_VN]])\n",
        "\n",
        "plt.figure(figsize=(8, 6))\n",
        "sns.heatmap(confusion_matrix, annot=True, fmt=\".2f\", cmap=\"Blues\",\n",
        "            xticklabels=class_names, yticklabels=class_names)\n",
        "plt.xlabel('Predicted Values')\n",
        "plt.ylabel('Actual Values')\n",
        "plt.title('Confusion Matrix (%)')\n",
        "\n",
        "plt.show()"
      ],
      "metadata": {
        "colab": {
          "base_uri": "https://localhost:8080/",
          "height": 564
        },
        "id": "XjiF98pNePHc",
        "outputId": "506941a3-3e72-42d2-8846-f616cb000656"
      },
      "execution_count": null,
      "outputs": [
        {
          "output_type": "display_data",
          "data": {
            "text/plain": [
              "<Figure size 800x600 with 2 Axes>"
            ],
            "image/png": "[encoded data removed]"
          },
          "metadata": {}
        }
      ]
    }
  ]
}