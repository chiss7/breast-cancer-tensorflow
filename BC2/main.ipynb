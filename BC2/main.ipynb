{
  "nbformat": 4,
  "nbformat_minor": 0,
  "metadata": {
    "colab": {
      "provenance": [],
      "authorship_tag": "ABX9TyMKlAzWDplcgYzg7ywMlPzi",
      "include_colab_link": true
    },
    "kernelspec": {
      "name": "python3",
      "display_name": "Python 3"
    },
    "language_info": {
      "name": "python"
    }
  },
  "cells": [
    {
      "cell_type": "markdown",
      "metadata": {
        "id": "view-in-github",
        "colab_type": "text"
      },
      "source": [
        "<a href=\"https://colab.research.google.com/github/chiss7/breast-cancer-tensorflow/blob/main/BC2/main.ipynb\" target=\"_parent\"><img src=\"https://colab.research.google.com/assets/colab-badge.svg\" alt=\"Open In Colab\"/></a>"
      ]
    },
    {
      "cell_type": "code",
      "execution_count": null,
      "metadata": {
        "colab": {
          "base_uri": "https://localhost:8080/"
        },
        "id": "tgQjeHun1qmp",
        "outputId": "074121cc-fd0c-46a4-ed2c-2f36080b87a5"
      },
      "outputs": [
        {
          "output_type": "stream",
          "name": "stdout",
          "text": [
            "Mounted at /content/drive\n"
          ]
        }
      ],
      "source": [
        "from google.colab import drive\n",
        "drive.mount('/content/drive')\n",
        "!cp '/content/drive/MyDrive/Colab Notebooks/Cancer de pecho w  batches - Tensorflow 2 (no keras)/utils.py' '/content'\n",
        "!cp '/content/drive/MyDrive/Colab Notebooks/Cancer de pecho w  batches - Tensorflow 2 (no keras)/optimizers.py' '/content'"
      ]
    },
    {
      "cell_type": "code",
      "source": [
        "import numpy as np\n",
        "import pandas as pd\n",
        "\n",
        "import tensorflow as tf\n",
        "\n",
        "import matplotlib.pyplot as plt\n",
        "import seaborn as sns\n",
        "\n",
        "from sklearn.datasets import load_breast_cancer\n",
        "from sklearn.model_selection import train_test_split\n",
        "from sklearn.preprocessing import MinMaxScaler\n",
        "\n",
        "from utils import Model\n",
        "from optimizers import GradientDescent, Momentum, Adam\n",
        "\n",
        "# Refreshing import to changes in utils.py\n",
        "%load_ext autoreload\n",
        "%autoreload 2"
      ],
      "metadata": {
        "id": "-6ptTa5t2EoQ",
        "colab": {
          "base_uri": "https://localhost:8080/"
        },
        "outputId": "2fb8b80c-0402-4f13-b2bd-0ebdd644a857"
      },
      "execution_count": null,
      "outputs": [
        {
          "output_type": "stream",
          "name": "stdout",
          "text": [
            "The autoreload extension is already loaded. To reload it, use:\n",
            "  %reload_ext autoreload\n"
          ]
        }
      ]
    },
    {
      "cell_type": "code",
      "source": [
        "cancer_de_pecho = load_breast_cancer()\n",
        "X = cancer_de_pecho[\"data\"]\n",
        "y = cancer_de_pecho[\"target\"]\n",
        "\n",
        "X_train, X_test, y_train, y_test = train_test_split(X, y)\n",
        "\n",
        "df_train = pd.DataFrame(X_train, columns=cancer_de_pecho[\"feature_names\"])"
      ],
      "metadata": {
        "id": "allWsF5L2NIH"
      },
      "execution_count": null,
      "outputs": []
    },
    {
      "cell_type": "code",
      "source": [
        "# X_train = np.transpose(np.array(X_train, dtype=np.float32))\n",
        "# X_test = np.transpose(np.array(X_test, dtype=np.float32))\n",
        "# y_train = np.array(y_train, dtype=np.float32)\n",
        "# y_test = np.array(y_test, dtype=np.float32)\n",
        "\n",
        "X_train = np.array(X_train, dtype=np.float32)\n",
        "X_test = np.array(X_test, dtype=np.float32)\n",
        "y_train = np.array(y_train, dtype=np.float32)\n",
        "y_test = np.array(y_test, dtype=np.float32)"
      ],
      "metadata": {
        "id": "-uE0Ebll_PZk"
      },
      "execution_count": null,
      "outputs": []
    },
    {
      "cell_type": "code",
      "source": [
        "df_train"
      ],
      "metadata": {
        "colab": {
          "base_uri": "https://localhost:8080/",
          "height": 458
        },
        "id": "8gGUOaRKDaSb",
        "outputId": "2b78331f-46c6-4070-a282-f33f64d375f0"
      },
      "execution_count": null,
      "outputs": [
        {
          "output_type": "execute_result",
          "data": {
            "text/plain": [
              "     mean radius  mean texture  mean perimeter  mean area  mean smoothness  \\\n",
              "0          9.876         19.40           63.95      298.3          0.10050   \n",
              "1         13.590         21.84           87.16      561.0          0.07956   \n",
              "2         15.460         19.48          101.70      748.9          0.10920   \n",
              "3         10.490         18.61           66.86      334.3          0.10680   \n",
              "4         14.040         15.98           89.78      611.2          0.08458   \n",
              "..           ...           ...             ...        ...              ...   \n",
              "421       12.220         20.04           79.47      453.1          0.10960   \n",
              "422       16.740         21.59          110.10      869.5          0.09610   \n",
              "423       14.870         16.67           98.64      682.5          0.11620   \n",
              "424       14.640         15.24           95.77      651.9          0.11320   \n",
              "425       19.730         19.82          130.70     1206.0          0.10620   \n",
              "\n",
              "     mean compactness  mean concavity  mean concave points  mean symmetry  \\\n",
              "0             0.09697         0.06154              0.03029         0.1945   \n",
              "1             0.08259         0.04072              0.02142         0.1635   \n",
              "2             0.12230         0.14660              0.08087         0.1931   \n",
              "3             0.06678         0.02297              0.01780         0.1482   \n",
              "4             0.05895         0.03534              0.02944         0.1714   \n",
              "..                ...             ...                  ...            ...   \n",
              "421           0.11520         0.08175              0.02166         0.2124   \n",
              "422           0.13360         0.13480              0.06018         0.1896   \n",
              "423           0.16490         0.16900              0.08923         0.2157   \n",
              "424           0.13390         0.09966              0.07064         0.2116   \n",
              "425           0.18490         0.24170              0.09740         0.1733   \n",
              "\n",
              "     mean fractal dimension  ...  worst radius  worst texture  \\\n",
              "0                   0.06322  ...         10.76          26.83   \n",
              "1                   0.05859  ...         14.80          30.04   \n",
              "2                   0.05796  ...         19.26          26.00   \n",
              "3                   0.06600  ...         11.06          24.54   \n",
              "4                   0.05898  ...         15.66          21.58   \n",
              "..                      ...  ...           ...            ...   \n",
              "421                 0.06894  ...         13.16          24.17   \n",
              "422                 0.05656  ...         20.01          29.02   \n",
              "423                 0.06768  ...         18.81          27.37   \n",
              "424                 0.06346  ...         16.34          18.24   \n",
              "425                 0.06697  ...         25.28          25.59   \n",
              "\n",
              "     worst perimeter  worst area  worst smoothness  worst compactness  \\\n",
              "0              72.22       361.2            0.1559             0.2302   \n",
              "1              97.66       661.5            0.1005             0.1730   \n",
              "2             124.90      1156.0            0.1546             0.2394   \n",
              "3              70.76       375.4            0.1413             0.1044   \n",
              "4             101.20       750.0            0.1195             0.1252   \n",
              "..               ...         ...               ...                ...   \n",
              "421            85.13       515.3            0.1402             0.2315   \n",
              "422           133.50      1229.0            0.1563             0.3835   \n",
              "423           127.10      1095.0            0.1878             0.4480   \n",
              "424           109.40       803.6            0.1277             0.3089   \n",
              "425           159.80      1933.0            0.1710             0.5955   \n",
              "\n",
              "     worst concavity  worst concave points  worst symmetry  \\\n",
              "0            0.26440               0.09749          0.2622   \n",
              "1            0.14530               0.06189          0.2446   \n",
              "2            0.37910               0.15140          0.2837   \n",
              "3            0.08423               0.06528          0.2213   \n",
              "4            0.11170               0.07453          0.2725   \n",
              "..               ...                   ...             ...   \n",
              "421          0.35350               0.08088          0.2709   \n",
              "422          0.54090               0.18130          0.4863   \n",
              "423          0.47040               0.20270          0.3585   \n",
              "424          0.26040               0.13970          0.3151   \n",
              "425          0.84890               0.25070          0.2749   \n",
              "\n",
              "     worst fractal dimension  \n",
              "0                    0.08490  \n",
              "1                    0.07024  \n",
              "2                    0.08019  \n",
              "3                    0.07842  \n",
              "4                    0.07234  \n",
              "..                       ...  \n",
              "421                  0.08839  \n",
              "422                  0.08633  \n",
              "423                  0.10650  \n",
              "424                  0.08473  \n",
              "425                  0.12970  \n",
              "\n",
              "[426 rows x 30 columns]"
            ],
            "text/html": [
              "\n",
              "  <div id=\"df-94b43291-5a9c-4919-b6de-c97a98850dda\" class=\"colab-df-container\">\n",
              "    <div>\n",
              "<style scoped>\n",
              "    .dataframe tbody tr th:only-of-type {\n",
              "        vertical-align: middle;\n",
              "    }\n",
              "\n",
              "    .dataframe tbody tr th {\n",
              "        vertical-align: top;\n",
              "    }\n",
              "\n",
              "    .dataframe thead th {\n",
              "        text-align: right;\n",
              "    }\n",
              "</style>\n",
              "<table border=\"1\" class=\"dataframe\">\n",
              "  <thead>\n",
              "    <tr style=\"text-align: right;\">\n",
              "      <th></th>\n",
              "      <th>mean radius</th>\n",
              "      <th>mean texture</th>\n",
              "      <th>mean perimeter</th>\n",
              "      <th>mean area</th>\n",
              "      <th>mean smoothness</th>\n",
              "      <th>mean compactness</th>\n",
              "      <th>mean concavity</th>\n",
              "      <th>mean concave points</th>\n",
              "      <th>mean symmetry</th>\n",
              "      <th>mean fractal dimension</th>\n",
              "      <th>...</th>\n",
              "      <th>worst radius</th>\n",
              "      <th>worst texture</th>\n",
              "      <th>worst perimeter</th>\n",
              "      <th>worst area</th>\n",
              "      <th>worst smoothness</th>\n",
              "      <th>worst compactness</th>\n",
              "      <th>worst concavity</th>\n",
              "      <th>worst concave points</th>\n",
              "      <th>worst symmetry</th>\n",
              "      <th>worst fractal dimension</th>\n",
              "    </tr>\n",
              "  </thead>\n",
              "  <tbody>\n",
              "    <tr>\n",
              "      <th>0</th>\n",
              "      <td>9.876</td>\n",
              "      <td>19.40</td>\n",
              "      <td>63.95</td>\n",
              "      <td>298.3</td>\n",
              "      <td>0.10050</td>\n",
              "      <td>0.09697</td>\n",
              "      <td>0.06154</td>\n",
              "      <td>0.03029</td>\n",
              "      <td>0.1945</td>\n",
              "      <td>0.06322</td>\n",
              "      <td>...</td>\n",
              "      <td>10.76</td>\n",
              "      <td>26.83</td>\n",
              "      <td>72.22</td>\n",
              "      <td>361.2</td>\n",
              "      <td>0.1559</td>\n",
              "      <td>0.2302</td>\n",
              "      <td>0.26440</td>\n",
              "      <td>0.09749</td>\n",
              "      <td>0.2622</td>\n",
              "      <td>0.08490</td>\n",
              "    </tr>\n",
              "    <tr>\n",
              "      <th>1</th>\n",
              "      <td>13.590</td>\n",
              "      <td>21.84</td>\n",
              "      <td>87.16</td>\n",
              "      <td>561.0</td>\n",
              "      <td>0.07956</td>\n",
              "      <td>0.08259</td>\n",
              "      <td>0.04072</td>\n",
              "      <td>0.02142</td>\n",
              "      <td>0.1635</td>\n",
              "      <td>0.05859</td>\n",
              "      <td>...</td>\n",
              "      <td>14.80</td>\n",
              "      <td>30.04</td>\n",
              "      <td>97.66</td>\n",
              "      <td>661.5</td>\n",
              "      <td>0.1005</td>\n",
              "      <td>0.1730</td>\n",
              "      <td>0.14530</td>\n",
              "      <td>0.06189</td>\n",
              "      <td>0.2446</td>\n",
              "      <td>0.07024</td>\n",
              "    </tr>\n",
              "    <tr>\n",
              "      <th>2</th>\n",
              "      <td>15.460</td>\n",
              "      <td>19.48</td>\n",
              "      <td>101.70</td>\n",
              "      <td>748.9</td>\n",
              "      <td>0.10920</td>\n",
              "      <td>0.12230</td>\n",
              "      <td>0.14660</td>\n",
              "      <td>0.08087</td>\n",
              "      <td>0.1931</td>\n",
              "      <td>0.05796</td>\n",
              "      <td>...</td>\n",
              "      <td>19.26</td>\n",
              "      <td>26.00</td>\n",
              "      <td>124.90</td>\n",
              "      <td>1156.0</td>\n",
              "      <td>0.1546</td>\n",
              "      <td>0.2394</td>\n",
              "      <td>0.37910</td>\n",
              "      <td>0.15140</td>\n",
              "      <td>0.2837</td>\n",
              "      <td>0.08019</td>\n",
              "    </tr>\n",
              "    <tr>\n",
              "      <th>3</th>\n",
              "      <td>10.490</td>\n",
              "      <td>18.61</td>\n",
              "      <td>66.86</td>\n",
              "      <td>334.3</td>\n",
              "      <td>0.10680</td>\n",
              "      <td>0.06678</td>\n",
              "      <td>0.02297</td>\n",
              "      <td>0.01780</td>\n",
              "      <td>0.1482</td>\n",
              "      <td>0.06600</td>\n",
              "      <td>...</td>\n",
              "      <td>11.06</td>\n",
              "      <td>24.54</td>\n",
              "      <td>70.76</td>\n",
              "      <td>375.4</td>\n",
              "      <td>0.1413</td>\n",
              "      <td>0.1044</td>\n",
              "      <td>0.08423</td>\n",
              "      <td>0.06528</td>\n",
              "      <td>0.2213</td>\n",
              "      <td>0.07842</td>\n",
              "    </tr>\n",
              "    <tr>\n",
              "      <th>4</th>\n",
              "      <td>14.040</td>\n",
              "      <td>15.98</td>\n",
              "      <td>89.78</td>\n",
              "      <td>611.2</td>\n",
              "      <td>0.08458</td>\n",
              "      <td>0.05895</td>\n",
              "      <td>0.03534</td>\n",
              "      <td>0.02944</td>\n",
              "      <td>0.1714</td>\n",
              "      <td>0.05898</td>\n",
              "      <td>...</td>\n",
              "      <td>15.66</td>\n",
              "      <td>21.58</td>\n",
              "      <td>101.20</td>\n",
              "      <td>750.0</td>\n",
              "      <td>0.1195</td>\n",
              "      <td>0.1252</td>\n",
              "      <td>0.11170</td>\n",
              "      <td>0.07453</td>\n",
              "      <td>0.2725</td>\n",
              "      <td>0.07234</td>\n",
              "    </tr>\n",
              "    <tr>\n",
              "      <th>...</th>\n",
              "      <td>...</td>\n",
              "      <td>...</td>\n",
              "      <td>...</td>\n",
              "      <td>...</td>\n",
              "      <td>...</td>\n",
              "      <td>...</td>\n",
              "      <td>...</td>\n",
              "      <td>...</td>\n",
              "      <td>...</td>\n",
              "      <td>...</td>\n",
              "      <td>...</td>\n",
              "      <td>...</td>\n",
              "      <td>...</td>\n",
              "      <td>...</td>\n",
              "      <td>...</td>\n",
              "      <td>...</td>\n",
              "      <td>...</td>\n",
              "      <td>...</td>\n",
              "      <td>...</td>\n",
              "      <td>...</td>\n",
              "      <td>...</td>\n",
              "    </tr>\n",
              "    <tr>\n",
              "      <th>421</th>\n",
              "      <td>12.220</td>\n",
              "      <td>20.04</td>\n",
              "      <td>79.47</td>\n",
              "      <td>453.1</td>\n",
              "      <td>0.10960</td>\n",
              "      <td>0.11520</td>\n",
              "      <td>0.08175</td>\n",
              "      <td>0.02166</td>\n",
              "      <td>0.2124</td>\n",
              "      <td>0.06894</td>\n",
              "      <td>...</td>\n",
              "      <td>13.16</td>\n",
              "      <td>24.17</td>\n",
              "      <td>85.13</td>\n",
              "      <td>515.3</td>\n",
              "      <td>0.1402</td>\n",
              "      <td>0.2315</td>\n",
              "      <td>0.35350</td>\n",
              "      <td>0.08088</td>\n",
              "      <td>0.2709</td>\n",
              "      <td>0.08839</td>\n",
              "    </tr>\n",
              "    <tr>\n",
              "      <th>422</th>\n",
              "      <td>16.740</td>\n",
              "      <td>21.59</td>\n",
              "      <td>110.10</td>\n",
              "      <td>869.5</td>\n",
              "      <td>0.09610</td>\n",
              "      <td>0.13360</td>\n",
              "      <td>0.13480</td>\n",
              "      <td>0.06018</td>\n",
              "      <td>0.1896</td>\n",
              "      <td>0.05656</td>\n",
              "      <td>...</td>\n",
              "      <td>20.01</td>\n",
              "      <td>29.02</td>\n",
              "      <td>133.50</td>\n",
              "      <td>1229.0</td>\n",
              "      <td>0.1563</td>\n",
              "      <td>0.3835</td>\n",
              "      <td>0.54090</td>\n",
              "      <td>0.18130</td>\n",
              "      <td>0.4863</td>\n",
              "      <td>0.08633</td>\n",
              "    </tr>\n",
              "    <tr>\n",
              "      <th>423</th>\n",
              "      <td>14.870</td>\n",
              "      <td>16.67</td>\n",
              "      <td>98.64</td>\n",
              "      <td>682.5</td>\n",
              "      <td>0.11620</td>\n",
              "      <td>0.16490</td>\n",
              "      <td>0.16900</td>\n",
              "      <td>0.08923</td>\n",
              "      <td>0.2157</td>\n",
              "      <td>0.06768</td>\n",
              "      <td>...</td>\n",
              "      <td>18.81</td>\n",
              "      <td>27.37</td>\n",
              "      <td>127.10</td>\n",
              "      <td>1095.0</td>\n",
              "      <td>0.1878</td>\n",
              "      <td>0.4480</td>\n",
              "      <td>0.47040</td>\n",
              "      <td>0.20270</td>\n",
              "      <td>0.3585</td>\n",
              "      <td>0.10650</td>\n",
              "    </tr>\n",
              "    <tr>\n",
              "      <th>424</th>\n",
              "      <td>14.640</td>\n",
              "      <td>15.24</td>\n",
              "      <td>95.77</td>\n",
              "      <td>651.9</td>\n",
              "      <td>0.11320</td>\n",
              "      <td>0.13390</td>\n",
              "      <td>0.09966</td>\n",
              "      <td>0.07064</td>\n",
              "      <td>0.2116</td>\n",
              "      <td>0.06346</td>\n",
              "      <td>...</td>\n",
              "      <td>16.34</td>\n",
              "      <td>18.24</td>\n",
              "      <td>109.40</td>\n",
              "      <td>803.6</td>\n",
              "      <td>0.1277</td>\n",
              "      <td>0.3089</td>\n",
              "      <td>0.26040</td>\n",
              "      <td>0.13970</td>\n",
              "      <td>0.3151</td>\n",
              "      <td>0.08473</td>\n",
              "    </tr>\n",
              "    <tr>\n",
              "      <th>425</th>\n",
              "      <td>19.730</td>\n",
              "      <td>19.82</td>\n",
              "      <td>130.70</td>\n",
              "      <td>1206.0</td>\n",
              "      <td>0.10620</td>\n",
              "      <td>0.18490</td>\n",
              "      <td>0.24170</td>\n",
              "      <td>0.09740</td>\n",
              "      <td>0.1733</td>\n",
              "      <td>0.06697</td>\n",
              "      <td>...</td>\n",
              "      <td>25.28</td>\n",
              "      <td>25.59</td>\n",
              "      <td>159.80</td>\n",
              "      <td>1933.0</td>\n",
              "      <td>0.1710</td>\n",
              "      <td>0.5955</td>\n",
              "      <td>0.84890</td>\n",
              "      <td>0.25070</td>\n",
              "      <td>0.2749</td>\n",
              "      <td>0.12970</td>\n",
              "    </tr>\n",
              "  </tbody>\n",
              "</table>\n",
              "<p>426 rows × 30 columns</p>\n",
              "</div>\n",
              "    <div class=\"colab-df-buttons\">\n",
              "\n",
              "  <div class=\"colab-df-container\">\n",
              "    <button class=\"colab-df-convert\" onclick=\"convertToInteractive('df-94b43291-5a9c-4919-b6de-c97a98850dda')\"\n",
              "            title=\"Convert this dataframe to an interactive table.\"\n",
              "            style=\"display:none;\">\n",
              "\n",
              "  <svg xmlns=\"http://www.w3.org/2000/svg\" height=\"24px\" viewBox=\"0 -960 960 960\">\n",
              "    <path d=\"M120-120v-720h720v720H120Zm60-500h600v-160H180v160Zm220 220h160v-160H400v160Zm0 220h160v-160H400v160ZM180-400h160v-160H180v160Zm440 0h160v-160H620v160ZM180-180h160v-160H180v160Zm440 0h160v-160H620v160Z\"/>\n",
              "  </svg>\n",
              "    </button>\n",
              "\n",
              "  <style>\n",
              "    .colab-df-container {\n",
              "      display:flex;\n",
              "      gap: 12px;\n",
              "    }\n",
              "\n",
              "    .colab-df-convert {\n",
              "      background-color: #E8F0FE;\n",
              "      border: none;\n",
              "      border-radius: 50%;\n",
              "      cursor: pointer;\n",
              "      display: none;\n",
              "      fill: #1967D2;\n",
              "      height: 32px;\n",
              "      padding: 0 0 0 0;\n",
              "      width: 32px;\n",
              "    }\n",
              "\n",
              "    .colab-df-convert:hover {\n",
              "      background-color: #E2EBFA;\n",
              "      box-shadow: 0px 1px 2px rgba(60, 64, 67, 0.3), 0px 1px 3px 1px rgba(60, 64, 67, 0.15);\n",
              "      fill: #174EA6;\n",
              "    }\n",
              "\n",
              "    .colab-df-buttons div {\n",
              "      margin-bottom: 4px;\n",
              "    }\n",
              "\n",
              "    [theme=dark] .colab-df-convert {\n",
              "      background-color: #3B4455;\n",
              "      fill: #D2E3FC;\n",
              "    }\n",
              "\n",
              "    [theme=dark] .colab-df-convert:hover {\n",
              "      background-color: #434B5C;\n",
              "      box-shadow: 0px 1px 3px 1px rgba(0, 0, 0, 0.15);\n",
              "      filter: drop-shadow(0px 1px 2px rgba(0, 0, 0, 0.3));\n",
              "      fill: #FFFFFF;\n",
              "    }\n",
              "  </style>\n",
              "\n",
              "    <script>\n",
              "      const buttonEl =\n",
              "        document.querySelector('#df-94b43291-5a9c-4919-b6de-c97a98850dda button.colab-df-convert');\n",
              "      buttonEl.style.display =\n",
              "        google.colab.kernel.accessAllowed ? 'block' : 'none';\n",
              "\n",
              "      async function convertToInteractive(key) {\n",
              "        const element = document.querySelector('#df-94b43291-5a9c-4919-b6de-c97a98850dda');\n",
              "        const dataTable =\n",
              "          await google.colab.kernel.invokeFunction('convertToInteractive',\n",
              "                                                    [key], {});\n",
              "        if (!dataTable) return;\n",
              "\n",
              "        const docLinkHtml = 'Like what you see? Visit the ' +\n",
              "          '<a target=\"_blank\" href=https://colab.research.google.com/notebooks/data_table.ipynb>data table notebook</a>'\n",
              "          + ' to learn more about interactive tables.';\n",
              "        element.innerHTML = '';\n",
              "        dataTable['output_type'] = 'display_data';\n",
              "        await google.colab.output.renderOutput(dataTable, element);\n",
              "        const docLink = document.createElement('div');\n",
              "        docLink.innerHTML = docLinkHtml;\n",
              "        element.appendChild(docLink);\n",
              "      }\n",
              "    </script>\n",
              "  </div>\n",
              "\n",
              "\n",
              "<div id=\"df-05adc419-442f-4ddc-891c-a1acb2812319\">\n",
              "  <button class=\"colab-df-quickchart\" onclick=\"quickchart('df-05adc419-442f-4ddc-891c-a1acb2812319')\"\n",
              "            title=\"Suggest charts.\"\n",
              "            style=\"display:none;\">\n",
              "\n",
              "<svg xmlns=\"http://www.w3.org/2000/svg\" height=\"24px\"viewBox=\"0 0 24 24\"\n",
              "     width=\"24px\">\n",
              "    <g>\n",
              "        <path d=\"M19 3H5c-1.1 0-2 .9-2 2v14c0 1.1.9 2 2 2h14c1.1 0 2-.9 2-2V5c0-1.1-.9-2-2-2zM9 17H7v-7h2v7zm4 0h-2V7h2v10zm4 0h-2v-4h2v4z\"/>\n",
              "    </g>\n",
              "</svg>\n",
              "  </button>\n",
              "\n",
              "<style>\n",
              "  .colab-df-quickchart {\n",
              "      --bg-color: #E8F0FE;\n",
              "      --fill-color: #1967D2;\n",
              "      --hover-bg-color: #E2EBFA;\n",
              "      --hover-fill-color: #174EA6;\n",
              "      --disabled-fill-color: #AAA;\n",
              "      --disabled-bg-color: #DDD;\n",
              "  }\n",
              "\n",
              "  [theme=dark] .colab-df-quickchart {\n",
              "      --bg-color: #3B4455;\n",
              "      --fill-color: #D2E3FC;\n",
              "      --hover-bg-color: #434B5C;\n",
              "      --hover-fill-color: #FFFFFF;\n",
              "      --disabled-bg-color: #3B4455;\n",
              "      --disabled-fill-color: #666;\n",
              "  }\n",
              "\n",
              "  .colab-df-quickchart {\n",
              "    background-color: var(--bg-color);\n",
              "    border: none;\n",
              "    border-radius: 50%;\n",
              "    cursor: pointer;\n",
              "    display: none;\n",
              "    fill: var(--fill-color);\n",
              "    height: 32px;\n",
              "    padding: 0;\n",
              "    width: 32px;\n",
              "  }\n",
              "\n",
              "  .colab-df-quickchart:hover {\n",
              "    background-color: var(--hover-bg-color);\n",
              "    box-shadow: 0 1px 2px rgba(60, 64, 67, 0.3), 0 1px 3px 1px rgba(60, 64, 67, 0.15);\n",
              "    fill: var(--button-hover-fill-color);\n",
              "  }\n",
              "\n",
              "  .colab-df-quickchart-complete:disabled,\n",
              "  .colab-df-quickchart-complete:disabled:hover {\n",
              "    background-color: var(--disabled-bg-color);\n",
              "    fill: var(--disabled-fill-color);\n",
              "    box-shadow: none;\n",
              "  }\n",
              "\n",
              "  .colab-df-spinner {\n",
              "    border: 2px solid var(--fill-color);\n",
              "    border-color: transparent;\n",
              "    border-bottom-color: var(--fill-color);\n",
              "    animation:\n",
              "      spin 1s steps(1) infinite;\n",
              "  }\n",
              "\n",
              "  @keyframes spin {\n",
              "    0% {\n",
              "      border-color: transparent;\n",
              "      border-bottom-color: var(--fill-color);\n",
              "      border-left-color: var(--fill-color);\n",
              "    }\n",
              "    20% {\n",
              "      border-color: transparent;\n",
              "      border-left-color: var(--fill-color);\n",
              "      border-top-color: var(--fill-color);\n",
              "    }\n",
              "    30% {\n",
              "      border-color: transparent;\n",
              "      border-left-color: var(--fill-color);\n",
              "      border-top-color: var(--fill-color);\n",
              "      border-right-color: var(--fill-color);\n",
              "    }\n",
              "    40% {\n",
              "      border-color: transparent;\n",
              "      border-right-color: var(--fill-color);\n",
              "      border-top-color: var(--fill-color);\n",
              "    }\n",
              "    60% {\n",
              "      border-color: transparent;\n",
              "      border-right-color: var(--fill-color);\n",
              "    }\n",
              "    80% {\n",
              "      border-color: transparent;\n",
              "      border-right-color: var(--fill-color);\n",
              "      border-bottom-color: var(--fill-color);\n",
              "    }\n",
              "    90% {\n",
              "      border-color: transparent;\n",
              "      border-bottom-color: var(--fill-color);\n",
              "    }\n",
              "  }\n",
              "</style>\n",
              "\n",
              "  <script>\n",
              "    async function quickchart(key) {\n",
              "      const quickchartButtonEl =\n",
              "        document.querySelector('#' + key + ' button');\n",
              "      quickchartButtonEl.disabled = true;  // To prevent multiple clicks.\n",
              "      quickchartButtonEl.classList.add('colab-df-spinner');\n",
              "      try {\n",
              "        const charts = await google.colab.kernel.invokeFunction(\n",
              "            'suggestCharts', [key], {});\n",
              "      } catch (error) {\n",
              "        console.error('Error during call to suggestCharts:', error);\n",
              "      }\n",
              "      quickchartButtonEl.classList.remove('colab-df-spinner');\n",
              "      quickchartButtonEl.classList.add('colab-df-quickchart-complete');\n",
              "    }\n",
              "    (() => {\n",
              "      let quickchartButtonEl =\n",
              "        document.querySelector('#df-05adc419-442f-4ddc-891c-a1acb2812319 button');\n",
              "      quickchartButtonEl.style.display =\n",
              "        google.colab.kernel.accessAllowed ? 'block' : 'none';\n",
              "    })();\n",
              "  </script>\n",
              "</div>\n",
              "    </div>\n",
              "  </div>\n"
            ]
          },
          "metadata": {},
          "execution_count": 69
        }
      ]
    },
    {
      "cell_type": "code",
      "source": [
        "X_train"
      ],
      "metadata": {
        "colab": {
          "base_uri": "https://localhost:8080/"
        },
        "id": "PStQs9bCpboy",
        "outputId": "c3803339-477b-4ac5-e15d-c534b9c23cf8"
      },
      "execution_count": null,
      "outputs": [
        {
          "output_type": "execute_result",
          "data": {
            "text/plain": [
              "array([[9.876e+00, 1.940e+01, 6.395e+01, ..., 9.749e-02, 2.622e-01,\n",
              "        8.490e-02],\n",
              "       [1.359e+01, 2.184e+01, 8.716e+01, ..., 6.189e-02, 2.446e-01,\n",
              "        7.024e-02],\n",
              "       [1.546e+01, 1.948e+01, 1.017e+02, ..., 1.514e-01, 2.837e-01,\n",
              "        8.019e-02],\n",
              "       ...,\n",
              "       [1.487e+01, 1.667e+01, 9.864e+01, ..., 2.027e-01, 3.585e-01,\n",
              "        1.065e-01],\n",
              "       [1.464e+01, 1.524e+01, 9.577e+01, ..., 1.397e-01, 3.151e-01,\n",
              "        8.473e-02],\n",
              "       [1.973e+01, 1.982e+01, 1.307e+02, ..., 2.507e-01, 2.749e-01,\n",
              "        1.297e-01]], dtype=float32)"
            ]
          },
          "metadata": {},
          "execution_count": 70
        }
      ]
    },
    {
      "cell_type": "code",
      "source": [
        "# Data Normalization\n",
        "# used in machine learning to scale the features of a dataset to a specified range. (0 - 1)\n",
        "# It is particularly useful for binary classification problems.\n",
        "scaler = MinMaxScaler()\n",
        "scaler.fit(X_train)\n",
        "X_train = scaler.transform(X_train)\n",
        "\n",
        "scaler.fit(X_test)\n",
        "X_test = scaler.transform(X_test)"
      ],
      "metadata": {
        "id": "zkaXlVlWDjwT"
      },
      "execution_count": null,
      "outputs": []
    },
    {
      "cell_type": "code",
      "source": [
        "X_train"
      ],
      "metadata": {
        "colab": {
          "base_uri": "https://localhost:8080/"
        },
        "id": "VEt0VJOoqQtJ",
        "outputId": "c82592bd-3377-482d-db2e-ad9db97fce85"
      },
      "execution_count": null,
      "outputs": [
        {
          "output_type": "execute_result",
          "data": {
            "text/plain": [
              "array([[0.10700819, 0.327697  , 0.11402762, ..., 0.33501714, 0.20238328,\n",
              "        0.25205877],\n",
              "       [0.28889757, 0.41021308, 0.27912936, ..., 0.2126804 , 0.16742799,\n",
              "        0.12759992],\n",
              "       [0.38047898, 0.3304024 , 0.38255796, ..., 0.5202749 , 0.2450844 ,\n",
              "        0.21207234],\n",
              "       ...,\n",
              "       [0.35158432, 0.2353737 , 0.360791  , ..., 0.69656354, 0.3936445 ,\n",
              "        0.43543598],\n",
              "       [0.3403203 , 0.18701383, 0.34037557, ..., 0.48006868, 0.3074479 ,\n",
              "        0.2506155 ],\n",
              "       [0.5895979 , 0.34190056, 0.5888462 , ..., 0.86151195, 0.22760671,\n",
              "        0.6323968 ]], dtype=float32)"
            ]
          },
          "metadata": {},
          "execution_count": 72
        }
      ]
    },
    {
      "cell_type": "code",
      "source": [
        "def create_batches(array, batch_size):\n",
        "  batches = []\n",
        "  for i in range(0, len(array), batch_size):\n",
        "    batch = array[i:i + batch_size]\n",
        "    batches.append(batch)\n",
        "  return batches"
      ],
      "metadata": {
        "id": "lCNynZyykDip"
      },
      "execution_count": null,
      "outputs": []
    },
    {
      "cell_type": "code",
      "source": [
        "X_train = create_batches(X_train, 16)\n",
        "y_train = create_batches(y_train, 16)"
      ],
      "metadata": {
        "id": "uZsSmQN9kVWY"
      },
      "execution_count": null,
      "outputs": []
    },
    {
      "cell_type": "code",
      "source": [
        "def transpose(batches):\n",
        "  for i, batch in enumerate(batches):\n",
        "    batches[i] = np.transpose(batches[i])\n",
        "  return batches"
      ],
      "metadata": {
        "id": "kFv3YQ0ylEul"
      },
      "execution_count": null,
      "outputs": []
    },
    {
      "cell_type": "code",
      "source": [
        "X_train = transpose(X_train)\n",
        "X_test = np.transpose(X_test)"
      ],
      "metadata": {
        "id": "6T7rdIlulix2"
      },
      "execution_count": null,
      "outputs": []
    },
    {
      "cell_type": "code",
      "source": [
        "# HYPER PARAMETERS\n",
        "lr = 1e-3\n",
        "arch = [30, 15]\n",
        "num_epochs = 60\n",
        "\n",
        "model = Model(arch)\n",
        "optimizer = Adam(learning_rate=lr)\n",
        "bin_cross_entropy = tf.keras.losses.BinaryCrossentropy()\n",
        "\n",
        "loss_list = []\n",
        "accuracy_list = []\n",
        "val_loss_list = []\n",
        "val_accuracy_list = []\n",
        "\n",
        "print(\"----------------------------------------\")\n",
        "print(model.title)\n",
        "print(optimizer.title)\n",
        "print(\"----------------------------------------\")\n",
        "\n",
        "# TRAIN MODEL\n",
        "for epoch in range(num_epochs):\n",
        "  print(\"Progress [\", end=\"\")\n",
        "  for X_train_batch, y_train_batch in zip(X_train, y_train):\n",
        "    # Gradients\n",
        "    with tf.GradientTape() as t:\n",
        "      # Loss\n",
        "      loss = bin_cross_entropy(y_train_batch, model(X_train_batch))\n",
        "      val_loss = bin_cross_entropy(y_test, model(X_test))\n",
        "\n",
        "    grads = t.gradient(loss, model.Variables)\n",
        "\n",
        "    # Apply Gradients (optimizer)\n",
        "    model.Variables = optimizer.apply_gradients(model.Variables, grads)\n",
        "\n",
        "    print(\"|\", end=\"\")\n",
        "  print(\"] \", end=\"\")\n",
        "\n",
        "  loss_list.append(loss)\n",
        "  val_loss_list.append(val_loss)\n",
        "\n",
        "  # Accuracy\n",
        "  accuracy = model.compute_accuracy(model(X_train_batch), y_train_batch)\n",
        "  accuracy_list.append(accuracy)\n",
        "\n",
        "  val_accuracy = model.compute_accuracy(model(X_test), y_test)\n",
        "  val_accuracy_list.append(val_accuracy)\n",
        "\n",
        "  print(f\"Epoch: {epoch}, Loss: {loss:.4f}, Val Loss: {val_loss:.4f}, Accuracy: {accuracy:.2f}, Val Accuracy: {val_accuracy:.2f}\")"
      ],
      "metadata": {
        "colab": {
          "base_uri": "https://localhost:8080/"
        },
        "id": "FnuEaSVi6Z-4",
        "outputId": "a0fa4e57-75c8-4066-f04e-6b63b3e36f87"
      },
      "execution_count": null,
      "outputs": [
        {
          "output_type": "stream",
          "name": "stdout",
          "text": [
            "----------------------------------------\n",
            "Model architecture -> input[30], hidden[30, 15], output[1]\n",
            "Adam: learning rate = 0.001\n",
            "----------------------------------------\n",
            "Progress [|||||||||||||||||||||||||||] Epoch: 0, Loss: 1.7492, Val Loss: 1.9982, Accuracy: 0.30, Val Accuracy: 0.43\n",
            "Progress [|||||||||||||||||||||||||||] Epoch: 1, Loss: 1.2911, Val Loss: 1.5544, Accuracy: 0.60, Val Accuracy: 0.52\n",
            "Progress [|||||||||||||||||||||||||||] Epoch: 2, Loss: 1.0460, Val Loss: 1.2464, Accuracy: 0.60, Val Accuracy: 0.57\n",
            "Progress [|||||||||||||||||||||||||||] Epoch: 3, Loss: 0.8530, Val Loss: 1.0054, Accuracy: 0.60, Val Accuracy: 0.62\n",
            "Progress [|||||||||||||||||||||||||||] Epoch: 4, Loss: 0.6577, Val Loss: 0.8155, Accuracy: 0.70, Val Accuracy: 0.66\n",
            "Progress [|||||||||||||||||||||||||||] Epoch: 5, Loss: 0.5152, Val Loss: 0.6721, Accuracy: 0.80, Val Accuracy: 0.69\n",
            "Progress [|||||||||||||||||||||||||||] Epoch: 6, Loss: 0.4164, Val Loss: 0.5633, Accuracy: 0.80, Val Accuracy: 0.76\n",
            "Progress [|||||||||||||||||||||||||||] Epoch: 7, Loss: 0.3647, Val Loss: 0.4756, Accuracy: 0.80, Val Accuracy: 0.78\n",
            "Progress [|||||||||||||||||||||||||||] Epoch: 8, Loss: 0.3239, Val Loss: 0.4121, Accuracy: 0.80, Val Accuracy: 0.80\n",
            "Progress [|||||||||||||||||||||||||||] Epoch: 9, Loss: 0.2928, Val Loss: 0.3605, Accuracy: 0.90, Val Accuracy: 0.83\n",
            "Progress [|||||||||||||||||||||||||||] Epoch: 10, Loss: 0.2672, Val Loss: 0.3169, Accuracy: 0.90, Val Accuracy: 0.85\n",
            "Progress [|||||||||||||||||||||||||||] Epoch: 11, Loss: 0.2446, Val Loss: 0.2822, Accuracy: 0.90, Val Accuracy: 0.87\n",
            "Progress [|||||||||||||||||||||||||||] Epoch: 12, Loss: 0.2234, Val Loss: 0.2558, Accuracy: 0.90, Val Accuracy: 0.88\n",
            "Progress [|||||||||||||||||||||||||||] Epoch: 13, Loss: 0.2051, Val Loss: 0.2391, Accuracy: 0.90, Val Accuracy: 0.89\n",
            "Progress [|||||||||||||||||||||||||||] Epoch: 14, Loss: 0.1901, Val Loss: 0.2266, Accuracy: 0.90, Val Accuracy: 0.89\n",
            "Progress [|||||||||||||||||||||||||||] Epoch: 15, Loss: 0.1776, Val Loss: 0.2160, Accuracy: 0.90, Val Accuracy: 0.90\n",
            "Progress [|||||||||||||||||||||||||||] Epoch: 16, Loss: 0.1663, Val Loss: 0.2071, Accuracy: 0.90, Val Accuracy: 0.90\n",
            "Progress [|||||||||||||||||||||||||||] Epoch: 17, Loss: 0.1564, Val Loss: 0.1997, Accuracy: 0.90, Val Accuracy: 0.90\n",
            "Progress [|||||||||||||||||||||||||||] Epoch: 18, Loss: 0.1482, Val Loss: 0.1928, Accuracy: 0.90, Val Accuracy: 0.90\n",
            "Progress [|||||||||||||||||||||||||||] Epoch: 19, Loss: 0.1413, Val Loss: 0.1870, Accuracy: 0.90, Val Accuracy: 0.90\n",
            "Progress [|||||||||||||||||||||||||||] Epoch: 20, Loss: 0.1353, Val Loss: 0.1820, Accuracy: 0.90, Val Accuracy: 0.91\n",
            "Progress [|||||||||||||||||||||||||||] Epoch: 21, Loss: 0.1304, Val Loss: 0.1773, Accuracy: 1.00, Val Accuracy: 0.92\n",
            "Progress [|||||||||||||||||||||||||||] Epoch: 22, Loss: 0.1256, Val Loss: 0.1734, Accuracy: 1.00, Val Accuracy: 0.92\n",
            "Progress [|||||||||||||||||||||||||||] Epoch: 23, Loss: 0.1214, Val Loss: 0.1698, Accuracy: 1.00, Val Accuracy: 0.92\n",
            "Progress [|||||||||||||||||||||||||||] Epoch: 24, Loss: 0.1175, Val Loss: 0.1665, Accuracy: 1.00, Val Accuracy: 0.92\n",
            "Progress [|||||||||||||||||||||||||||] Epoch: 25, Loss: 0.1135, Val Loss: 0.1632, Accuracy: 1.00, Val Accuracy: 0.92\n",
            "Progress [|||||||||||||||||||||||||||] Epoch: 26, Loss: 0.1099, Val Loss: 0.1604, Accuracy: 1.00, Val Accuracy: 0.92\n",
            "Progress [|||||||||||||||||||||||||||] Epoch: 27, Loss: 0.1068, Val Loss: 0.1578, Accuracy: 1.00, Val Accuracy: 0.92\n",
            "Progress [|||||||||||||||||||||||||||] Epoch: 28, Loss: 0.1036, Val Loss: 0.1553, Accuracy: 1.00, Val Accuracy: 0.92\n",
            "Progress [|||||||||||||||||||||||||||] Epoch: 29, Loss: 0.1002, Val Loss: 0.1536, Accuracy: 1.00, Val Accuracy: 0.92\n",
            "Progress [|||||||||||||||||||||||||||] Epoch: 30, Loss: 0.0969, Val Loss: 0.1523, Accuracy: 1.00, Val Accuracy: 0.92\n",
            "Progress [|||||||||||||||||||||||||||] Epoch: 31, Loss: 0.0947, Val Loss: 0.1504, Accuracy: 1.00, Val Accuracy: 0.91\n",
            "Progress [|||||||||||||||||||||||||||] Epoch: 32, Loss: 0.0926, Val Loss: 0.1486, Accuracy: 1.00, Val Accuracy: 0.91\n",
            "Progress [|||||||||||||||||||||||||||] Epoch: 33, Loss: 0.0905, Val Loss: 0.1469, Accuracy: 1.00, Val Accuracy: 0.91\n",
            "Progress [|||||||||||||||||||||||||||] Epoch: 34, Loss: 0.0889, Val Loss: 0.1452, Accuracy: 1.00, Val Accuracy: 0.91\n",
            "Progress [|||||||||||||||||||||||||||] Epoch: 35, Loss: 0.0873, Val Loss: 0.1437, Accuracy: 1.00, Val Accuracy: 0.92\n",
            "Progress [|||||||||||||||||||||||||||] Epoch: 36, Loss: 0.0854, Val Loss: 0.1424, Accuracy: 1.00, Val Accuracy: 0.91\n",
            "Progress [|||||||||||||||||||||||||||] Epoch: 37, Loss: 0.0834, Val Loss: 0.1419, Accuracy: 1.00, Val Accuracy: 0.91\n",
            "Progress [|||||||||||||||||||||||||||] Epoch: 38, Loss: 0.0818, Val Loss: 0.1411, Accuracy: 1.00, Val Accuracy: 0.90\n",
            "Progress [|||||||||||||||||||||||||||] Epoch: 39, Loss: 0.0801, Val Loss: 0.1401, Accuracy: 1.00, Val Accuracy: 0.90\n",
            "Progress [|||||||||||||||||||||||||||] Epoch: 40, Loss: 0.0780, Val Loss: 0.1404, Accuracy: 1.00, Val Accuracy: 0.90\n",
            "Progress [|||||||||||||||||||||||||||] Epoch: 41, Loss: 0.0763, Val Loss: 0.1403, Accuracy: 1.00, Val Accuracy: 0.90\n",
            "Progress [|||||||||||||||||||||||||||] Epoch: 42, Loss: 0.0745, Val Loss: 0.1398, Accuracy: 1.00, Val Accuracy: 0.90\n",
            "Progress [|||||||||||||||||||||||||||] Epoch: 43, Loss: 0.0731, Val Loss: 0.1391, Accuracy: 1.00, Val Accuracy: 0.90\n",
            "Progress [|||||||||||||||||||||||||||] Epoch: 44, Loss: 0.0718, Val Loss: 0.1385, Accuracy: 1.00, Val Accuracy: 0.90\n",
            "Progress [|||||||||||||||||||||||||||] Epoch: 45, Loss: 0.0710, Val Loss: 0.1378, Accuracy: 1.00, Val Accuracy: 0.90\n",
            "Progress [|||||||||||||||||||||||||||] Epoch: 46, Loss: 0.0699, Val Loss: 0.1372, Accuracy: 1.00, Val Accuracy: 0.91\n",
            "Progress [|||||||||||||||||||||||||||] Epoch: 47, Loss: 0.0689, Val Loss: 0.1362, Accuracy: 1.00, Val Accuracy: 0.92\n",
            "Progress [|||||||||||||||||||||||||||] Epoch: 48, Loss: 0.0683, Val Loss: 0.1353, Accuracy: 1.00, Val Accuracy: 0.92\n",
            "Progress [|||||||||||||||||||||||||||] Epoch: 49, Loss: 0.0671, Val Loss: 0.1347, Accuracy: 1.00, Val Accuracy: 0.92\n",
            "Progress [|||||||||||||||||||||||||||] Epoch: 50, Loss: 0.0668, Val Loss: 0.1337, Accuracy: 1.00, Val Accuracy: 0.92\n",
            "Progress [|||||||||||||||||||||||||||] Epoch: 51, Loss: 0.0660, Val Loss: 0.1339, Accuracy: 1.00, Val Accuracy: 0.92\n",
            "Progress [|||||||||||||||||||||||||||] Epoch: 52, Loss: 0.0650, Val Loss: 0.1329, Accuracy: 1.00, Val Accuracy: 0.92\n",
            "Progress [|||||||||||||||||||||||||||] Epoch: 53, Loss: 0.0634, Val Loss: 0.1328, Accuracy: 1.00, Val Accuracy: 0.93\n",
            "Progress [|||||||||||||||||||||||||||] Epoch: 54, Loss: 0.0628, Val Loss: 0.1321, Accuracy: 1.00, Val Accuracy: 0.93\n",
            "Progress [|||||||||||||||||||||||||||] Epoch: 55, Loss: 0.0618, Val Loss: 0.1319, Accuracy: 1.00, Val Accuracy: 0.93\n",
            "Progress [|||||||||||||||||||||||||||] Epoch: 56, Loss: 0.0610, Val Loss: 0.1317, Accuracy: 1.00, Val Accuracy: 0.93\n",
            "Progress [|||||||||||||||||||||||||||] Epoch: 57, Loss: 0.0601, Val Loss: 0.1322, Accuracy: 1.00, Val Accuracy: 0.94\n",
            "Progress [|||||||||||||||||||||||||||] Epoch: 58, Loss: 0.0589, Val Loss: 0.1325, Accuracy: 1.00, Val Accuracy: 0.94\n",
            "Progress [|||||||||||||||||||||||||||] Epoch: 59, Loss: 0.0576, Val Loss: 0.1327, Accuracy: 1.00, Val Accuracy: 0.94\n"
          ]
        }
      ]
    },
    {
      "cell_type": "markdown",
      "source": [
        "**Show Loss and Accuracy**\n"
      ],
      "metadata": {
        "id": "UKXxbfijnmKt"
      }
    },
    {
      "cell_type": "code",
      "source": [
        "fig, ax1 = plt.subplots()\n",
        "ax1.plot(loss_list, \"tab:red\")\n",
        "ax2 = ax1.twinx()\n",
        "ax2.plot(accuracy_list, \"tab:blue\")"
      ],
      "metadata": {
        "colab": {
          "base_uri": "https://localhost:8080/",
          "height": 447
        },
        "id": "PSvwyerlnmX-",
        "outputId": "465e7f61-b98d-43c8-d515-8d602dee2f4a"
      },
      "execution_count": null,
      "outputs": [
        {
          "output_type": "execute_result",
          "data": {
            "text/plain": [
              "[<matplotlib.lines.Line2D at 0x7a3abdc102e0>]"
            ]
          },
          "metadata": {},
          "execution_count": 151
        },
        {
          "output_type": "display_data",
          "data": {
            "text/plain": [
              "<Figure size 640x480 with 2 Axes>"
            ],
            "image/png": "[encoded data removed]"
          },
          "metadata": {}
        }
      ]
    },
    {
      "cell_type": "code",
      "source": [
        "fig, ax1 = plt.subplots()\n",
        "ax1.plot(val_loss_list, \"tab:pink\")\n",
        "ax2 = ax1.twinx()\n",
        "ax2.plot(val_accuracy_list, \"tab:cyan\")"
      ],
      "metadata": {
        "colab": {
          "base_uri": "https://localhost:8080/",
          "height": 447
        },
        "id": "7F49MfgQMn03",
        "outputId": "b4deab1a-5462-4875-f2af-9ebeddc9459b"
      },
      "execution_count": null,
      "outputs": [
        {
          "output_type": "execute_result",
          "data": {
            "text/plain": [
              "[<matplotlib.lines.Line2D at 0x7a3abdc12380>]"
            ]
          },
          "metadata": {},
          "execution_count": 152
        },
        {
          "output_type": "display_data",
          "data": {
            "text/plain": [
              "<Figure size 640x480 with 2 Axes>"
            ],
            "image/png": "[encoded data removed]"
          },
          "metadata": {}
        }
      ]
    },
    {
      "cell_type": "code",
      "source": [
        "fig, ax1 = plt.subplots()\n",
        "ax1.plot(loss_list, \"tab:red\")\n",
        "ax2 = ax1.twinx()\n",
        "ax2.plot(val_loss_list, \"tab:pink\")"
      ],
      "metadata": {
        "colab": {
          "base_uri": "https://localhost:8080/",
          "height": 447
        },
        "id": "0b4bX9Z3OUsZ",
        "outputId": "3ac88286-e934-4c06-a3ac-fd8f50cf6924"
      },
      "execution_count": null,
      "outputs": [
        {
          "output_type": "execute_result",
          "data": {
            "text/plain": [
              "[<matplotlib.lines.Line2D at 0x7a3abdb77490>]"
            ]
          },
          "metadata": {},
          "execution_count": 153
        },
        {
          "output_type": "display_data",
          "data": {
            "text/plain": [
              "<Figure size 640x480 with 2 Axes>"
            ],
            "image/png": "[encoded data removed]"
          },
          "metadata": {}
        }
      ]
    },
    {
      "cell_type": "code",
      "source": [
        "fig, ax1 = plt.subplots()\n",
        "ax1.plot(accuracy_list, \"tab:blue\")\n",
        "ax2 = ax1.twinx()\n",
        "ax2.plot(val_accuracy_list, \"tab:cyan\")"
      ],
      "metadata": {
        "colab": {
          "base_uri": "https://localhost:8080/",
          "height": 447
        },
        "id": "Uovl38d1OdhN",
        "outputId": "aa10d5b4-0f2d-4a36-e6d4-38e92f24b96b"
      },
      "execution_count": null,
      "outputs": [
        {
          "output_type": "execute_result",
          "data": {
            "text/plain": [
              "[<matplotlib.lines.Line2D at 0x7a3abda68d90>]"
            ]
          },
          "metadata": {},
          "execution_count": 154
        },
        {
          "output_type": "display_data",
          "data": {
            "text/plain": [
              "<Figure size 640x480 with 2 Axes>"
            ],
            "image/png": "[encoded data removed]"
          },
          "metadata": {}
        }
      ]
    },
    {
      "cell_type": "markdown",
      "source": [
        "**Confusion Matrix**"
      ],
      "metadata": {
        "id": "EK5lTjKLnWgM"
      }
    },
    {
      "cell_type": "code",
      "source": [
        "VP = 0\n",
        "VN = 0\n",
        "FP = 0\n",
        "FN = 0\n",
        "y_pred = model(X_test)\n",
        "\n",
        "for X, y in zip(y_pred[0], y_test):\n",
        "  if y == 1:\n",
        "    if tf.equal(tf.round(X).numpy(), y):\n",
        "      VP += 1\n",
        "    else:\n",
        "      FN += 1\n",
        "  else:\n",
        "    if tf.equal(tf.round(X).numpy(), y):\n",
        "      VN += 1\n",
        "    else:\n",
        "      FP += 1\n",
        "\n",
        "T_VP = VP/(VP + FN) * 100\n",
        "T_VN = VN/(VN + FP) * 100\n",
        "T_FN = FN/(FN + VP) * 100\n",
        "T_FP = FP/(FP + VN) * 100\n",
        "\n",
        "class_names = ['Positive', 'Negative']"
      ],
      "metadata": {
        "id": "CVSrnczTT95Q"
      },
      "execution_count": null,
      "outputs": []
    },
    {
      "cell_type": "code",
      "source": [
        "confusion_matrix = np.array([[VP, FN], [FP, VN]])\n",
        "\n",
        "plt.figure(figsize=(8, 6))\n",
        "sns.heatmap(confusion_matrix, annot=True, fmt=\"d\", cmap=\"Blues\",\n",
        "            xticklabels=class_names, yticklabels=class_names)\n",
        "plt.xlabel('Predicted Values')\n",
        "plt.ylabel('Actual Values')\n",
        "plt.title('Confusion Matrix')\n",
        "\n",
        "plt.show()"
      ],
      "metadata": {
        "colab": {
          "base_uri": "https://localhost:8080/",
          "height": 564
        },
        "id": "ko7evMPri3rI",
        "outputId": "462aef81-1217-4462-f934-1dac38440e16"
      },
      "execution_count": null,
      "outputs": [
        {
          "output_type": "display_data",
          "data": {
            "text/plain": [
              "<Figure size 800x600 with 2 Axes>"
            ],
            "image/png": "[encoded data removed]"
          },
          "metadata": {}
        }
      ]
    },
    {
      "cell_type": "code",
      "source": [
        "confusion_matrix = np.array([[T_VP, T_FN], [T_FP, T_VN]])\n",
        "\n",
        "plt.figure(figsize=(8, 6))\n",
        "sns.heatmap(confusion_matrix, annot=True, fmt=\".2f\", cmap=\"Blues\",\n",
        "            xticklabels=class_names, yticklabels=class_names)\n",
        "plt.xlabel('Predicted Values')\n",
        "plt.ylabel('Actual Values')\n",
        "plt.title('Confusion Matrix (%)')\n",
        "\n",
        "plt.show()"
      ],
      "metadata": {
        "colab": {
          "base_uri": "https://localhost:8080/",
          "height": 564
        },
        "id": "XjiF98pNePHc",
        "outputId": "8b3dc6a7-8472-4f38-a68c-7e6359111e75"
      },
      "execution_count": null,
      "outputs": [
        {
          "output_type": "display_data",
          "data": {
            "text/plain": [
              "<Figure size 800x600 with 2 Axes>"
            ],
            "image/png": "[encoded data removed]"
          },
          "metadata": {}
        }
      ]
    }
  ]
}